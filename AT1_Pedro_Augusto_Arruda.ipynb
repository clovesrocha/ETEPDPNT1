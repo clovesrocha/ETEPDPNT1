{
  "nbformat": 4,
  "nbformat_minor": 0,
  "metadata": {
    "colab": {
      "provenance": [],
      "include_colab_link": true
    },
    "kernelspec": {
      "name": "python3",
      "display_name": "Python 3"
    },
    "language_info": {
      "name": "python"
    }
  },
  "cells": [
    {
      "cell_type": "markdown",
      "metadata": {
        "id": "view-in-github",
        "colab_type": "text"
      },
      "source": [
        "<a href=\"https://colab.research.google.com/github/clovesrocha/ETEPDPNT1/blob/main/AT1_Pedro_Augusto_Arruda.ipynb\" target=\"_parent\"><img src=\"https://colab.research.google.com/assets/colab-badge.svg\" alt=\"Open In Colab\"/></a>"
      ]
    },
    {
      "cell_type": "code",
      "execution_count": null,
      "metadata": {
        "colab": {
          "base_uri": "https://localhost:8080/"
        },
        "id": "jZf-CP3U093f",
        "outputId": "c155898c-3b60-4302-e754-db08789cb495"
      },
      "outputs": [
        {
          "output_type": "stream",
          "name": "stdout",
          "text": [
            "Olá ETE Cícero Dias\n"
          ]
        }
      ],
      "source": [
        "mensagem = \"Olá ETE Cícero Dias\"\n",
        "print(mensagem)"
      ]
    },
    {
      "cell_type": "code",
      "source": [
        "numero = input(\"Digite o número: \")\n",
        "print(\"O número informado foi\", numero)"
      ],
      "metadata": {
        "colab": {
          "base_uri": "https://localhost:8080/"
        },
        "id": "xJuk9AGv1J_y",
        "outputId": "52c9d5c1-3080-447d-80df-329a02bab282"
      },
      "execution_count": null,
      "outputs": [
        {
          "output_type": "stream",
          "name": "stdout",
          "text": [
            "Digite o número: 2\n",
            "O número informado foi 2\n"
          ]
        }
      ]
    },
    {
      "cell_type": "code",
      "source": [
        "numero1 = float(input(\"Digite o primeiro número: \"))\n",
        "numero2 = float(input(\"Digite o segundo número: \"))\n",
        "soma = numero1+numero2\n",
        "print(\"A soma destes números é\", soma)"
      ],
      "metadata": {
        "colab": {
          "base_uri": "https://localhost:8080/"
        },
        "id": "vKqnZFZZ1Qts",
        "outputId": "61658fc2-f9c1-4e75-d02b-c93049fd417a"
      },
      "execution_count": null,
      "outputs": [
        {
          "output_type": "stream",
          "name": "stdout",
          "text": [
            "Digite o primeiro número: 3\n",
            "Digite o segundo número: 5\n",
            "A soma destes números é 8.0\n"
          ]
        }
      ]
    },
    {
      "cell_type": "code",
      "source": [
        "nota1 = float(input(\"Digite a primeira nota: \"))\n",
        "nota2 = float(input(\"Digite a segunda nota: \"))\n",
        "nota3 = float(input(\"Digite a terceira nota: \"))\n",
        "nota4 = float(input(\"Digite a terceira nota: \"))\n",
        "media = (nota1+nota2+nota3+nota4)/4\n",
        "print(\"A média das suas notas é\", media)"
      ],
      "metadata": {
        "colab": {
          "base_uri": "https://localhost:8080/"
        },
        "id": "Pt6nwFx71iF-",
        "outputId": "2580baf0-ab1a-4bf5-bcbf-214b5ea1f74e"
      },
      "execution_count": null,
      "outputs": [
        {
          "output_type": "stream",
          "name": "stdout",
          "text": [
            "Digite a primeira nota: 5\n",
            "Digite a segunda nota: 9\n",
            "Digite a terceira nota: 10\n",
            "Digite a terceira nota: 4\n",
            "A média das suas notas é 7.0\n"
          ]
        }
      ]
    },
    {
      "cell_type": "code",
      "source": [
        "metro = float(input(\"Digite a medida em metros: \"))\n",
        "centimetro = float(metro*100)\n",
        "print(metro, \"m é igual a\", centimetro, \"cm\")"
      ],
      "metadata": {
        "colab": {
          "base_uri": "https://localhost:8080/"
        },
        "id": "amPZoBxa1rlJ",
        "outputId": "7d09b2b5-4ad2-423a-9aa1-abf514021d7d"
      },
      "execution_count": null,
      "outputs": [
        {
          "output_type": "stream",
          "name": "stdout",
          "text": [
            "Digite a medida em metros: 5\n",
            "5.0 m é igual a 500.0 cm\n"
          ]
        }
      ]
    },
    {
      "cell_type": "code",
      "source": [
        "import math\n",
        "raio = float(input(\"Digite o raio do círculo em: \"))\n",
        "area = math.pi * (raio**2)\n",
        "print(\"A área resultante do círculo é\", area, \"unidades de área\")"
      ],
      "metadata": {
        "colab": {
          "base_uri": "https://localhost:8080/"
        },
        "id": "MbssRszj2Nbu",
        "outputId": "d67bc683-2691-4c3a-fc42-04b219c66cdb"
      },
      "execution_count": null,
      "outputs": [
        {
          "output_type": "stream",
          "name": "stdout",
          "text": [
            "Digite o raio do círculo em: 6\n",
            "A área resultante do círculo é 113.09733552923255 unidades de área\n"
          ]
        }
      ]
    },
    {
      "cell_type": "code",
      "source": [
        "salario_hora = float(input(\"Digite quanto você recebe por hora: \"))\n",
        "horas_mes = float(input(\"Digite quantas horas ao mês você trabalha: \"))\n",
        "holerite = salario_hora*horas_mes\n",
        "print(\"Seu salário ao final do mês é: \", holerite)"
      ],
      "metadata": {
        "colab": {
          "base_uri": "https://localhost:8080/"
        },
        "id": "zHbDQxT62TC1",
        "outputId": "90cba911-42c4-4cae-857f-4095848c608c"
      },
      "execution_count": null,
      "outputs": [
        {
          "output_type": "stream",
          "name": "stdout",
          "text": [
            "Digite quanto você recebe por hora: 10\n",
            "Digite quantas horas ao mês você trabalha: 200\n",
            "Seu salário ao final do mês é:  2000.0\n"
          ]
        }
      ]
    },
    {
      "cell_type": "code",
      "source": [
        "numero = float(input(\"Digite seu número: \"))\n",
        "if numero < 0:\n",
        "    print(\"O número é negativo\")\n",
        "elif numero > 0:\n",
        "    print(\"O número é positivo\")\n",
        "else:\n",
        "    print(\"O número é neutro\")"
      ],
      "metadata": {
        "id": "A1M081Q22iVI",
        "colab": {
          "base_uri": "https://localhost:8080/"
        },
        "outputId": "a04aa92d-a648-40c2-d1b8-d15e78d10e7f"
      },
      "execution_count": null,
      "outputs": [
        {
          "output_type": "stream",
          "name": "stdout",
          "text": [
            "Digite seu número: -6\n",
            "O número é negativo\n"
          ]
        }
      ]
    },
    {
      "cell_type": "code",
      "source": [
        "letra = input(\"Digite uma letra: \")\n",
        "if letra == \"M\" or letra == \"m\":\n",
        "    print(\"Masculino.\")\n",
        "elif letra == \"F\" or letra == \"f\":\n",
        "    print(\"Feminino.\")\n",
        "else:\n",
        "    print(\"Letra inválida.\")"
      ],
      "metadata": {
        "id": "Qy_6UrVc29Lj",
        "outputId": "7ba3de64-fc03-45e1-8dab-7384ad688a06",
        "colab": {
          "base_uri": "https://localhost:8080/"
        }
      },
      "execution_count": null,
      "outputs": [
        {
          "output_type": "stream",
          "name": "stdout",
          "text": [
            "Digite uma letra: M\n",
            "Masculino.\n"
          ]
        }
      ]
    }
  ]
}